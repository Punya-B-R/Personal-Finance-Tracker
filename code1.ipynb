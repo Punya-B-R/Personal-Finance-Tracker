{
 "cells": [
  {
   "cell_type": "code",
   "execution_count": 1,
   "id": "92252fc0",
   "metadata": {},
   "outputs": [],
   "source": [
    "import os\n",
    "from dotenv import load_dotenv\n",
    "import mysql.connector\n",
    "from mysql.connector import Error\n",
    "import tkinter as tk\n",
    "from tkinter import messagebox\n",
    "import bcrypt"
   ]
  },
  {
   "cell_type": "code",
   "execution_count": 2,
   "id": "94212745",
   "metadata": {},
   "outputs": [],
   "source": [
    "# Load environment variables from the .env file\n",
    "load_dotenv()\n",
    "\n",
    "def sql_connection():\n",
    "    try:\n",
    "        connection = mysql.connector.connect(\n",
    "            host='localhost',\n",
    "            user='root',\n",
    "            password=os.getenv('DB_PASSWORD'),\n",
    "            database='expense_tracker'\n",
    "        )\n",
    "        if connection.is_connected():\n",
    "            print('Connection Successful')\n",
    "            return connection\n",
    "    except Error as e:\n",
    "        print(e)\n",
    "        return None"
   ]
  },
  {
   "cell_type": "code",
   "execution_count": 3,
   "id": "b78bc436",
   "metadata": {},
   "outputs": [],
   "source": [
    "# This function remains unchanged for adding a new user\n",
    "def adding_user():\n",
    "    def hash_password(password):\n",
    "        salt = bcrypt.gensalt()\n",
    "        hashed_password = bcrypt.hashpw(password.encode(), salt)\n",
    "        return hashed_password.decode()\n",
    "    \n",
    "    def submit():\n",
    "        username = entry_username.get()\n",
    "        email = entry_email.get()\n",
    "        password = hash_password(entry_password.get())\n",
    "    \n",
    "        connection1 = sql_connection()\n",
    "        cursor = connection1.cursor()\n",
    "        query = 'INSERT INTO users (username, email, password) values (%s, %s, %s)'\n",
    "        cursor.execute(query, (username, email, password))\n",
    "        connection1.commit()\n",
    "        cursor.close()\n",
    "        connection1.close()\n",
    "        messagebox.showinfo('Success', 'User added successfully')\n",
    "        window_adding_user.destroy()\n",
    "    \n",
    "    window_adding_user = tk.Toplevel()\n",
    "    window_adding_user.title('Add User')\n",
    "    tk.Label(window_adding_user, text='Username').grid(row=0, column=0)\n",
    "    tk.Label(window_adding_user, text='Email').grid(row=1, column=0)\n",
    "    tk.Label(window_adding_user, text='Password').grid(row=2, column=0)\n",
    "    \n",
    "    entry_username = tk.Entry(window_adding_user)\n",
    "    entry_email = tk.Entry(window_adding_user)\n",
    "    entry_password = tk.Entry(window_adding_user, show='*')\n",
    "    \n",
    "    entry_username.grid(row=0, column=1)\n",
    "    entry_email.grid(row=1, column=1)\n",
    "    entry_password.grid(row=2, column=1)\n",
    "    \n",
    "    tk.Button(window_adding_user, text='Submit', command=submit).grid(row=3, column=1)"
   ]
  },
  {
   "cell_type": "code",
   "execution_count": 21,
   "id": "856579fd",
   "metadata": {},
   "outputs": [],
   "source": [
    "### EDIT STARTS HERE ###\n",
    "\n",
    "# This is where you create the main login screen with username, password fields, and 'New User?' question.\n",
    "def login_screen():\n",
    "    window = tk.Tk()  # Create the main window\n",
    "    window.title(\"Personal Finance Tracker\")\n",
    "    window.geometry(\"400x200\")\n",
    "    \n",
    "    window.grid_columnconfigure(0,weight=1)\n",
    "    window.grid_columnconfigure(1,weight=1)\n",
    "\n",
    "    # Username Label and Input Box\n",
    "    tk.Label(window, text=\"Username:\").grid(row=0, column=0, padx=10, pady=10,sticky='e')\n",
    "    entry_username = tk.Entry(window)\n",
    "    entry_username.grid(row=0, column=1, padx=10, pady=10, sticky='w')\n",
    "\n",
    "    # Password Label and Input Box\n",
    "    tk.Label(window, text=\"Password:\").grid(row=1, column=0, padx=10, pady=10,sticky='e')\n",
    "    entry_password = tk.Entry(window, show='*')  # Password hidden\n",
    "    entry_password.grid(row=1, column=1, padx=10, pady=10, sticky='w')\n",
    "\n",
    "    # New User Question and Add User Link\n",
    "    tk.Label(window, text=\"New user?\").grid(row=2, column=0,columnspan=2, pady=10, sticky='n')\n",
    "\n",
    "    # Add clickable text (Add User)\n",
    "    add_user_label = tk.Label(window, text=\"Add user\", fg=\"blue\", cursor=\"hand2\")\n",
    "    add_user_label.grid(row=3, column=0, columnspan=2, pady=10, sticky='n')\n",
    "\n",
    "    # Add a click event to the label, which opens the Add User window\n",
    "    add_user_label.bind(\"<Button-1>\", lambda e: adding_user())\n",
    "\n",
    "    window.mainloop()\n",
    "\n",
    "### EDIT ENDS HERE ###"
   ]
  },
  {
   "cell_type": "code",
   "execution_count": 22,
   "id": "da4f4e04",
   "metadata": {},
   "outputs": [],
   "source": [
    "if __name__ == '__main__':\n",
    "    login_screen()  # Run the main login screen"
   ]
  },
  {
   "cell_type": "code",
   "execution_count": null,
   "id": "54f2319d",
   "metadata": {},
   "outputs": [],
   "source": []
  }
 ],
 "metadata": {
  "kernelspec": {
   "display_name": "Python 3 (ipykernel)",
   "language": "python",
   "name": "python3"
  },
  "language_info": {
   "codemirror_mode": {
    "name": "ipython",
    "version": 3
   },
   "file_extension": ".py",
   "mimetype": "text/x-python",
   "name": "python",
   "nbconvert_exporter": "python",
   "pygments_lexer": "ipython3",
   "version": "3.11.5"
  }
 },
 "nbformat": 4,
 "nbformat_minor": 5
}
