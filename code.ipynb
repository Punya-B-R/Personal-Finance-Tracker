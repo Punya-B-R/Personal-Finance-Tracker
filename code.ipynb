{
 "cells": [
  {
   "cell_type": "code",
   "execution_count": 2,
   "id": "d9c8d28b",
   "metadata": {},
   "outputs": [
    {
     "name": "stdout",
     "output_type": "stream",
     "text": [
      "Requirement already satisfied: mysql-connector-python in c:\\users\\punya\\anaconda3\\lib\\site-packages (9.0.0)\n",
      "Note: you may need to restart the kernel to use updated packages.\n"
     ]
    }
   ],
   "source": [
    "pip install mysql-connector-python"
   ]
  },
  {
   "cell_type": "code",
   "execution_count": 19,
   "id": "ccd09038",
   "metadata": {},
   "outputs": [],
   "source": [
    "import os\n",
    "from dotenv import load_dotenv\n",
    "import mysql.connector\n",
    "from mysql.connector import Error\n",
    "\n",
    "load_dotenv()\n",
    "\n",
    "def sql_connection():\n",
    "    try:\n",
    "        connection = mysql.connector.connect(\n",
    "        host = 'localhost',\n",
    "        user = 'root',\n",
    "        password = os.getenv('DB_PASSWORD'),\n",
    "        database = 'expense_tracker'\n",
    "        )\n",
    "        if connection.is_connected():\n",
    "            print('Connection Successful')\n",
    "            return connection\n",
    "    except Error as e:\n",
    "        print(e)\n",
    "        return None"
   ]
  },
  {
   "cell_type": "code",
   "execution_count": 20,
   "id": "35db03b6",
   "metadata": {},
   "outputs": [
    {
     "name": "stdout",
     "output_type": "stream",
     "text": [
      "Requirement already satisfied: bcrypt in c:\\users\\punya\\anaconda3\\lib\\site-packages (3.2.0)\n",
      "Requirement already satisfied: cffi>=1.1 in c:\\users\\punya\\anaconda3\\lib\\site-packages (from bcrypt) (1.15.1)\n",
      "Requirement already satisfied: six>=1.4.1 in c:\\users\\punya\\anaconda3\\lib\\site-packages (from bcrypt) (1.16.0)\n",
      "Requirement already satisfied: pycparser in c:\\users\\punya\\anaconda3\\lib\\site-packages (from cffi>=1.1->bcrypt) (2.21)\n",
      "Note: you may need to restart the kernel to use updated packages.\n"
     ]
    }
   ],
   "source": [
    "pip install bcrypt"
   ]
  },
  {
   "cell_type": "code",
   "execution_count": 21,
   "id": "c3e73036",
   "metadata": {},
   "outputs": [],
   "source": [
    "import tkinter as tk\n",
    "from tkinter import messagebox\n",
    "import bcrypt\n",
    "\n",
    "def adding_user():\n",
    "    def hash_password(password):\n",
    "        salt = bcrypt.gensalt()\n",
    "        hashed_password = bcrypt.hashpw(password.encode(), salt)\n",
    "        return hashed_password.decode()\n",
    "    def submit():\n",
    "        username = entry_username.get()\n",
    "        email = entry_email.get()\n",
    "        password = hash_password(entry_password.get())\n",
    "    \n",
    "        connection1 = sql_connection()\n",
    "        cursor = connection1.cursor()\n",
    "        query = 'INSERT INTO users (username, email, password) values (%s, %s, %s)'\n",
    "        cursor.execute(query, (username, email, password))\n",
    "        connection1.commit()\n",
    "        cursor.close()\n",
    "        connection1.close()\n",
    "        messagebox.showinfo('Success', 'User added successfully')\n",
    "        window_adding_user.destroy()\n",
    "    \n",
    "    window_adding_user = tk.Toplevel()\n",
    "    window_adding_user.title('Add User')\n",
    "    tk.Label(window_adding_user, text = 'Username').grid(row = 0, column=0)\n",
    "    tk.Label(window_adding_user, text = 'Email').grid(row = 1, column = 0)\n",
    "    tk.Label(window_adding_user, text = 'Password').grid(row = 2, column = 0)\n",
    "    entry_username = tk.Entry(window_adding_user)\n",
    "    entry_email = tk.Entry(window_adding_user)\n",
    "    entry_password = tk.Entry(window_adding_user, show='*')\n",
    "    \n",
    "    entry_username.grid(row = 0, column = 1)\n",
    "    entry_email.grid(row = 1, column = 1)\n",
    "    entry_password.grid(row = 2, column = 1)\n",
    "    \n",
    "    tk.Button(window_adding_user, text = 'Submit', command = submit).grid(row = 3, column = 1)"
   ]
  },
  {
   "cell_type": "code",
   "execution_count": 22,
   "id": "de18d975",
   "metadata": {},
   "outputs": [],
   "source": [
    "def view_expenses():\n",
    "    connection2 = sql_connection()\n",
    "    cursor = connection2.cursor()\n",
    "    query = 'SELECT * FROM transactions'\n",
    "    cursor.execute(query)\n",
    "    transactions = cursor.fetchall()\n",
    "    cursor.close()\n",
    "    connection2.close()\n",
    "    \n",
    "    window_of_transac = tk.Toplevel()\n",
    "    window_of_transac.title('Viewing Transactions')\n",
    "    \n",
    "    columns = [i[0] for i in cursor.description]\n",
    "    \n",
    "    for col_num,col_name in enumerate(columns):\n",
    "        tk.Label(window_of_transac, text = col_name, font =('bold', 12)).grid(row=0, column = col_num)\n",
    "    \n",
    "    for row_num, transaction in enumerate(transactions, start=1):\n",
    "        for col_num, value1 in enumerate(transaction):\n",
    "            tk.Label(window_of_transac, text=value1).grid(row = row_num, column = col_num)"
   ]
  },
  {
   "cell_type": "code",
   "execution_count": 23,
   "id": "fe4768d1",
   "metadata": {},
   "outputs": [
    {
     "name": "stdout",
     "output_type": "stream",
     "text": [
      "Connection Successful\n"
     ]
    }
   ],
   "source": [
    "if __name__ == '__main__':\n",
    "    root = tk.Tk()\n",
    "    root.title('Personal Finance Tracker')\n",
    "    root.geometry('400x300')\n",
    "    tk.Button(root, text='Add User', command=adding_user).place(relx=0.5, rely=0.4, anchor='center')\n",
    "    tk.Button(root, text='View Transactions', command=view_expenses).place(relx=0.5, rely=0.6, anchor='center')\n",
    "    root.mainloop()"
   ]
  },
  {
   "cell_type": "code",
   "execution_count": null,
   "id": "b1ca5d37",
   "metadata": {},
   "outputs": [],
   "source": []
  }
 ],
 "metadata": {
  "kernelspec": {
   "display_name": "Python 3 (ipykernel)",
   "language": "python",
   "name": "python3"
  },
  "language_info": {
   "codemirror_mode": {
    "name": "ipython",
    "version": 3
   },
   "file_extension": ".py",
   "mimetype": "text/x-python",
   "name": "python",
   "nbconvert_exporter": "python",
   "pygments_lexer": "ipython3",
   "version": "3.11.5"
  }
 },
 "nbformat": 4,
 "nbformat_minor": 5
}
